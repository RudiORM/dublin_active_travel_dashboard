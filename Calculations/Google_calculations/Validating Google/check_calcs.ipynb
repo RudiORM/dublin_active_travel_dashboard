{
 "cells": [
  {
   "cell_type": "markdown",
   "metadata": {},
   "source": [
    "## Checking calculations\n",
    "\n",
    "Notebook F.A.O. Jack & Chris\n",
    "\n",
    "Note: I show these for cycling here but it's the same calculations for running"
   ]
  },
  {
   "cell_type": "code",
   "execution_count": 1,
   "metadata": {},
   "outputs": [],
   "source": [
    "import pandas as pd\n",
    "google = pd.read_excel('data_to_analyse.xlsx',sheet_name='GOOGLE_2023')\n",
    "census = pd.read_excel('data_to_analyse.xlsx',sheet_name='CENSUS_2022')"
   ]
  },
  {
   "cell_type": "markdown",
   "metadata": {},
   "source": [
    "Google data taken from all \"real\" constituencies. the Dublin provided google file doesn't include north and south dublin county."
   ]
  },
  {
   "cell_type": "code",
   "execution_count": 2,
   "metadata": {},
   "outputs": [
    {
     "data": {
      "text/html": [
       "<div>\n",
       "<style scoped>\n",
       "    .dataframe tbody tr th:only-of-type {\n",
       "        vertical-align: middle;\n",
       "    }\n",
       "\n",
       "    .dataframe tbody tr th {\n",
       "        vertical-align: top;\n",
       "    }\n",
       "\n",
       "    .dataframe thead th {\n",
       "        text-align: right;\n",
       "    }\n",
       "</style>\n",
       "<table border=\"1\" class=\"dataframe\">\n",
       "  <thead>\n",
       "    <tr style=\"text-align: right;\">\n",
       "      <th></th>\n",
       "      <th>ENG_NAME_VALUE</th>\n",
       "      <th>NAME</th>\n",
       "      <th>POPULATION</th>\n",
       "      <th>AUTOMOBILE_trips</th>\n",
       "      <th>AUTOMOBILE_full_distance_km</th>\n",
       "      <th>AUTOMOBILE_gpc_distance_km</th>\n",
       "      <th>AUTOMOBILE_full_co2e_tons</th>\n",
       "      <th>AUTOMOBILE_gpc_co2e_tons</th>\n",
       "      <th>BUS_trips</th>\n",
       "      <th>BUS_full_distance_km</th>\n",
       "      <th>...</th>\n",
       "      <th>RAIL_trips</th>\n",
       "      <th>RAIL_full_distance_km</th>\n",
       "      <th>RAIL_gpc_distance_km</th>\n",
       "      <th>RAIL_full_co2e_tons</th>\n",
       "      <th>RAIL_gpc_co2e_tons</th>\n",
       "      <th>TRAM_trips</th>\n",
       "      <th>TRAM_full_distance_km</th>\n",
       "      <th>TRAM_gpc_distance_km</th>\n",
       "      <th>TRAM_full_co2e_tons</th>\n",
       "      <th>TRAM_gpc_co2e_tons</th>\n",
       "    </tr>\n",
       "  </thead>\n",
       "  <tbody>\n",
       "    <tr>\n",
       "      <th>0</th>\n",
       "      <td>dublin-bay-north</td>\n",
       "      <td>Dublin Bay North</td>\n",
       "      <td>150114</td>\n",
       "      <td>40864985</td>\n",
       "      <td>479492825</td>\n",
       "      <td>271108155.0</td>\n",
       "      <td>87147.8673</td>\n",
       "      <td>49273.9334</td>\n",
       "      <td>3973751</td>\n",
       "      <td>29384540</td>\n",
       "      <td>...</td>\n",
       "      <td>2432793</td>\n",
       "      <td>26915828</td>\n",
       "      <td>13457914.0</td>\n",
       "      <td>0</td>\n",
       "      <td>0</td>\n",
       "      <td>0</td>\n",
       "      <td>0</td>\n",
       "      <td>0.0</td>\n",
       "      <td>0</td>\n",
       "      <td>0</td>\n",
       "    </tr>\n",
       "    <tr>\n",
       "      <th>1</th>\n",
       "      <td>dublin-bay-south</td>\n",
       "      <td>Dublin Bay South</td>\n",
       "      <td>123593</td>\n",
       "      <td>34187328</td>\n",
       "      <td>540945630</td>\n",
       "      <td>282679363.0</td>\n",
       "      <td>98316.9206</td>\n",
       "      <td>51377.0016</td>\n",
       "      <td>1914481</td>\n",
       "      <td>5749581</td>\n",
       "      <td>...</td>\n",
       "      <td>4621146</td>\n",
       "      <td>70094390</td>\n",
       "      <td>35047195.0</td>\n",
       "      <td>0</td>\n",
       "      <td>0</td>\n",
       "      <td>523089</td>\n",
       "      <td>1284019</td>\n",
       "      <td>1284019.0</td>\n",
       "      <td>0</td>\n",
       "      <td>0</td>\n",
       "    </tr>\n",
       "  </tbody>\n",
       "</table>\n",
       "<p>2 rows × 33 columns</p>\n",
       "</div>"
      ],
      "text/plain": [
       "     ENG_NAME_VALUE              NAME  POPULATION  AUTOMOBILE_trips  \\\n",
       "0  dublin-bay-north  Dublin Bay North      150114          40864985   \n",
       "1  dublin-bay-south  Dublin Bay South      123593          34187328   \n",
       "\n",
       "   AUTOMOBILE_full_distance_km  AUTOMOBILE_gpc_distance_km  \\\n",
       "0                    479492825                 271108155.0   \n",
       "1                    540945630                 282679363.0   \n",
       "\n",
       "   AUTOMOBILE_full_co2e_tons  AUTOMOBILE_gpc_co2e_tons  BUS_trips  \\\n",
       "0                 87147.8673                49273.9334    3973751   \n",
       "1                 98316.9206                51377.0016    1914481   \n",
       "\n",
       "   BUS_full_distance_km  ...  RAIL_trips  RAIL_full_distance_km  \\\n",
       "0              29384540  ...     2432793               26915828   \n",
       "1               5749581  ...     4621146               70094390   \n",
       "\n",
       "   RAIL_gpc_distance_km  RAIL_full_co2e_tons  RAIL_gpc_co2e_tons  TRAM_trips  \\\n",
       "0            13457914.0                    0                   0           0   \n",
       "1            35047195.0                    0                   0      523089   \n",
       "\n",
       "   TRAM_full_distance_km  TRAM_gpc_distance_km  TRAM_full_co2e_tons  \\\n",
       "0                      0                   0.0                    0   \n",
       "1                1284019             1284019.0                    0   \n",
       "\n",
       "   TRAM_gpc_co2e_tons  \n",
       "0                   0  \n",
       "1                   0  \n",
       "\n",
       "[2 rows x 33 columns]"
      ]
     },
     "execution_count": 2,
     "metadata": {},
     "output_type": "execute_result"
    }
   ],
   "source": [
    "google['POPULATION'].sum()\n",
    "\n",
    "google.head(2)"
   ]
  },
  {
   "cell_type": "markdown",
   "metadata": {},
   "source": [
    "Census data here is already aggregated from the small area maps data so it's just a single row. I checked and the population figure is exactly correct, which means our data is coming in right"
   ]
  },
  {
   "cell_type": "code",
   "execution_count": 3,
   "metadata": {},
   "outputs": [
    {
     "data": {
      "text/html": [
       "<div>\n",
       "<style scoped>\n",
       "    .dataframe tbody tr th:only-of-type {\n",
       "        vertical-align: middle;\n",
       "    }\n",
       "\n",
       "    .dataframe tbody tr th {\n",
       "        vertical-align: top;\n",
       "    }\n",
       "\n",
       "    .dataframe thead th {\n",
       "        text-align: right;\n",
       "    }\n",
       "</style>\n",
       "<table border=\"1\" class=\"dataframe\">\n",
       "  <thead>\n",
       "    <tr style=\"text-align: right;\">\n",
       "      <th></th>\n",
       "      <th>Unnamed: 0</th>\n",
       "      <th>Total population</th>\n",
       "      <th>On foot - Total</th>\n",
       "      <th>Bicycle - Total</th>\n",
       "      <th>Bus, minibus or coach - Total</th>\n",
       "      <th>Train, DART or LUAS - Total</th>\n",
       "      <th>Motorcycle or scooter - Total</th>\n",
       "      <th>Car driver - Total</th>\n",
       "      <th>Car passenger - Total</th>\n",
       "      <th>Van - Total</th>\n",
       "      <th>Other (incl. lorry) - Total</th>\n",
       "      <th>Work mainly at or from home - Total</th>\n",
       "      <th>Not stated - Total</th>\n",
       "    </tr>\n",
       "  </thead>\n",
       "  <tbody>\n",
       "    <tr>\n",
       "      <th>0</th>\n",
       "      <td>CENSUS 2022</td>\n",
       "      <td>1458154</td>\n",
       "      <td>180789</td>\n",
       "      <td>64387</td>\n",
       "      <td>127159</td>\n",
       "      <td>61401</td>\n",
       "      <td>5118</td>\n",
       "      <td>272279</td>\n",
       "      <td>124443</td>\n",
       "      <td>21137</td>\n",
       "      <td>1837</td>\n",
       "      <td>89359</td>\n",
       "      <td>98530</td>\n",
       "    </tr>\n",
       "  </tbody>\n",
       "</table>\n",
       "</div>"
      ],
      "text/plain": [
       "    Unnamed: 0  Total population  On foot - Total  Bicycle - Total  \\\n",
       "0  CENSUS 2022           1458154           180789            64387   \n",
       "\n",
       "   Bus, minibus or coach - Total  Train, DART or LUAS - Total  \\\n",
       "0                         127159                        61401   \n",
       "\n",
       "   Motorcycle or scooter - Total  Car driver - Total  Car passenger - Total  \\\n",
       "0                           5118              272279                 124443   \n",
       "\n",
       "   Van - Total  Other (incl. lorry) - Total  \\\n",
       "0        21137                         1837   \n",
       "\n",
       "   Work mainly at or from home - Total  Not stated - Total  \n",
       "0                                89359               98530  "
      ]
     },
     "execution_count": 3,
     "metadata": {},
     "output_type": "execute_result"
    }
   ],
   "source": [
    "census.head(3)"
   ]
  },
  {
   "cell_type": "markdown",
   "metadata": {},
   "source": [
    "### Google data"
   ]
  },
  {
   "cell_type": "markdown",
   "metadata": {},
   "source": [
    "Let's look at any one mode of transport, e.g. cycling"
   ]
  },
  {
   "cell_type": "code",
   "execution_count": 4,
   "metadata": {},
   "outputs": [],
   "source": [
    "cyc = [col for col in google.columns if 'CYCLING' in col]"
   ]
  },
  {
   "cell_type": "code",
   "execution_count": 5,
   "metadata": {},
   "outputs": [
    {
     "data": {
      "text/plain": [
       "['CYCLING_trips',\n",
       " 'CYCLING_full_distance_km',\n",
       " 'CYCLING_gpc_distance_km',\n",
       " 'CYCLING_full_co2e_tons',\n",
       " 'CYCLING_gpc_co2e_tons']"
      ]
     },
     "execution_count": 5,
     "metadata": {},
     "output_type": "execute_result"
    }
   ],
   "source": [
    "cyc"
   ]
  },
  {
   "cell_type": "markdown",
   "metadata": {},
   "source": [
    "It is the GPC stats that we use."
   ]
  },
  {
   "cell_type": "code",
   "execution_count": 6,
   "metadata": {},
   "outputs": [
    {
     "data": {
      "text/plain": [
       "CYCLING_trips                30512997.0\n",
       "CYCLING_full_distance_km    130597099.0\n",
       "CYCLING_gpc_distance_km      82458101.0\n",
       "CYCLING_full_co2e_tons              0.0\n",
       "CYCLING_gpc_co2e_tons               0.0\n",
       "dtype: float64"
      ]
     },
     "execution_count": 6,
     "metadata": {},
     "output_type": "execute_result"
    }
   ],
   "source": [
    "google[cyc].sum()"
   ]
  },
  {
   "cell_type": "markdown",
   "metadata": {},
   "source": [
    "so that is 30,512,997 (30m) cycling trips in the year"
   ]
  },
  {
   "cell_type": "markdown",
   "metadata": {},
   "source": [
    "Can we equate these two datsets together? Let's try. Recall how many people said they bike to work"
   ]
  },
  {
   "cell_type": "code",
   "execution_count": 7,
   "metadata": {},
   "outputs": [
    {
     "data": {
      "text/plain": [
       "64387"
      ]
     },
     "execution_count": 7,
     "metadata": {},
     "output_type": "execute_result"
    }
   ],
   "source": [
    "census['Bicycle - Total'].iloc[0]"
   ]
  },
  {
   "cell_type": "markdown",
   "metadata": {},
   "source": [
    "then assuming 254 working days a year, 2 journeys a day..."
   ]
  },
  {
   "cell_type": "code",
   "execution_count": 8,
   "metadata": {},
   "outputs": [
    {
     "data": {
      "text/plain": [
       "32708596"
      ]
     },
     "execution_count": 8,
     "metadata": {},
     "output_type": "execute_result"
    }
   ],
   "source": [
    "census['Bicycle - Total'].iloc[0]*254*2"
   ]
  },
  {
   "cell_type": "markdown",
   "metadata": {},
   "source": [
    "Over half (55pc) of office employees are now spending between two and three days at the workplace each week, according to Dublin Chamber’s latest Quarterly Business Outlook Survey.\n",
    "\n",
    "So a good average might be to assume average person goes into work 3.5 (?) days a week"
   ]
  },
  {
   "cell_type": "code",
   "execution_count": 9,
   "metadata": {},
   "outputs": [
    {
     "data": {
      "text/plain": [
       "22896017.2"
      ]
     },
     "execution_count": 9,
     "metadata": {},
     "output_type": "execute_result"
    }
   ],
   "source": [
    "census['Bicycle - Total'].iloc[0]*254*2*(3.5/5)"
   ]
  },
  {
   "cell_type": "markdown",
   "metadata": {},
   "source": [
    "that is 22m: over two thirds of all trips captured by google\n",
    "\n",
    "Notes:\n",
    "- Census is self-reported: people might say they cycle but actually don't\n",
    "- The question asks what form people USUALLY take, you might usually cycle in the summer etc"
   ]
  },
  {
   "cell_type": "markdown",
   "metadata": {},
   "source": [
    "## 1: CO2 saved [Google vs Census]\n",
    "\n",
    "The CO2 saved by not driving.\n",
    "\n"
   ]
  },
  {
   "cell_type": "markdown",
   "metadata": {},
   "source": [
    "### 1.1 Google"
   ]
  },
  {
   "cell_type": "markdown",
   "metadata": {},
   "source": [
    "Google tracks the CO2 emissions automatically.\n",
    "\n",
    "Logic: \"If every person who was cycling was magically driving instead, how much CO2 would they generate?\""
   ]
  },
  {
   "cell_type": "code",
   "execution_count": 10,
   "metadata": {},
   "outputs": [
    {
     "data": {
      "text/plain": [
       "30512997"
      ]
     },
     "execution_count": 10,
     "metadata": {},
     "output_type": "execute_result"
    }
   ],
   "source": [
    "google['CYCLING_trips'].sum()"
   ]
  },
  {
   "cell_type": "code",
   "execution_count": 11,
   "metadata": {},
   "outputs": [],
   "source": [
    "auto = [col for col in google.columns if 'AUTOMOBILE' in col]"
   ]
  },
  {
   "cell_type": "code",
   "execution_count": 12,
   "metadata": {},
   "outputs": [
    {
     "data": {
      "text/plain": [
       "AUTOMOBILE_trips               4.778163e+08\n",
       "AUTOMOBILE_full_distance_km    6.858249e+09\n",
       "AUTOMOBILE_gpc_distance_km     3.731595e+09\n",
       "AUTOMOBILE_full_co2e_tons      1.246487e+06\n",
       "AUTOMOBILE_gpc_co2e_tons       6.782178e+05\n",
       "dtype: float64"
      ]
     },
     "execution_count": 12,
     "metadata": {},
     "output_type": "execute_result"
    }
   ],
   "source": [
    "google[auto].sum()"
   ]
  },
  {
   "cell_type": "markdown",
   "metadata": {},
   "source": [
    "Method: assume each bike trip is now an automobile trip - find out how much emissions this would generate"
   ]
  },
  {
   "cell_type": "code",
   "execution_count": 13,
   "metadata": {},
   "outputs": [
    {
     "data": {
      "text/plain": [
       "43310.48626089091"
      ]
     },
     "execution_count": 13,
     "metadata": {},
     "output_type": "execute_result"
    }
   ],
   "source": [
    "emissions_per_AUTOMOBILE_trip = google['AUTOMOBILE_gpc_co2e_tons'].sum()/google['AUTOMOBILE_trips'].sum()\n",
    "\n",
    "emissions = google['CYCLING_trips'].sum()*emissions_per_AUTOMOBILE_trip\n",
    "\n",
    "emissions"
   ]
  },
  {
   "cell_type": "markdown",
   "metadata": {},
   "source": [
    "Cyclists are saving us 43,310 tonnes of CO2 a year by not driving"
   ]
  },
  {
   "cell_type": "markdown",
   "metadata": {},
   "source": [
    "### 1.2 Census commuting data"
   ]
  },
  {
   "cell_type": "markdown",
   "metadata": {},
   "source": [
    "We need to calculate the emissions ourselves.\n",
    "\n",
    "Logic: \"If every person who was commuting was instead commuting by car, how much CO2 would they generate?\""
   ]
  },
  {
   "cell_type": "markdown",
   "metadata": {},
   "source": [
    "Keeping our earlier assumptions - 254 working days a year, 2 journeys per day, 3.5 days a week."
   ]
  },
  {
   "cell_type": "code",
   "execution_count": 14,
   "metadata": {},
   "outputs": [
    {
     "data": {
      "text/plain": [
       "22896017.2"
      ]
     },
     "execution_count": 14,
     "metadata": {},
     "output_type": "execute_result"
    }
   ],
   "source": [
    "census['Bicycle - Total'].iloc[0]*254*2*(3.5/5)"
   ]
  },
  {
   "cell_type": "markdown",
   "metadata": {},
   "source": [
    "TomTom data: car uses 95g CO2/km = 95 x 10^-6 Tonnes CO2/km\n",
    "\n",
    "Assume average commute: 10km"
   ]
  },
  {
   "cell_type": "code",
   "execution_count": 15,
   "metadata": {},
   "outputs": [],
   "source": [
    "emissions_saved_census = 254*2*(3.5/5)*(95/1000000)*10"
   ]
  },
  {
   "cell_type": "code",
   "execution_count": 16,
   "metadata": {},
   "outputs": [
    {
     "data": {
      "text/plain": [
       "21751.21634"
      ]
     },
     "execution_count": 16,
     "metadata": {},
     "output_type": "execute_result"
    }
   ],
   "source": [
    "census['Bicycle - Total'].iloc[0]*emissions_saved_census"
   ]
  },
  {
   "cell_type": "markdown",
   "metadata": {},
   "source": [
    "Cyclists are saving us 21,751.21 tonnes of CO2 a year by not driving. This figure is less trustworthy but is correctly under the google value."
   ]
  },
  {
   "cell_type": "markdown",
   "metadata": {},
   "source": [
    "#### 2. Total emissions [Google]"
   ]
  },
  {
   "cell_type": "markdown",
   "metadata": {},
   "source": [
    "Total automobile emissions"
   ]
  },
  {
   "cell_type": "code",
   "execution_count": 17,
   "metadata": {},
   "outputs": [
    {
     "data": {
      "text/plain": [
       "678217.7682999999"
      ]
     },
     "execution_count": 17,
     "metadata": {},
     "output_type": "execute_result"
    }
   ],
   "source": [
    "google['AUTOMOBILE_gpc_co2e_tons'].sum()"
   ]
  },
  {
   "cell_type": "markdown",
   "metadata": {},
   "source": [
    "678,217 Tonnes of Carbon generated by autombiles"
   ]
  },
  {
   "cell_type": "code",
   "execution_count": 18,
   "metadata": {},
   "outputs": [
    {
     "data": {
      "text/plain": [
       "95849.3202"
      ]
     },
     "execution_count": 18,
     "metadata": {},
     "output_type": "execute_result"
    }
   ],
   "source": [
    "google['BUS_gpc_co2e_tons'].sum()"
   ]
  },
  {
   "cell_type": "markdown",
   "metadata": {},
   "source": [
    "95,000 Tonnes of Carbon generated by buses"
   ]
  },
  {
   "cell_type": "markdown",
   "metadata": {},
   "source": [
    "### 3. Time saved [Census]"
   ]
  },
  {
   "cell_type": "markdown",
   "metadata": {},
   "source": [
    "TomTom: \n",
    "\n",
    "- 10km commute 5 days a week\n",
    "- 295h spent driving\n",
    "- 158h lost due to congestion in dublin city\n",
    "- 90h lost in dublin metro area"
   ]
  },
  {
   "cell_type": "markdown",
   "metadata": {},
   "source": [
    "Let's take the average of city and metro\n",
    "\n",
    "We are also assuming 3.5 days a week to be more conservative"
   ]
  },
  {
   "cell_type": "code",
   "execution_count": 19,
   "metadata": {},
   "outputs": [
    {
     "data": {
      "text/plain": [
       "86.8"
      ]
     },
     "execution_count": 19,
     "metadata": {},
     "output_type": "execute_result"
    }
   ],
   "source": [
    "time_saved_per_person = 0.5*(158+90)*(3.5/5)\n",
    "\n",
    "time_saved_per_person"
   ]
  },
  {
   "cell_type": "markdown",
   "metadata": {},
   "source": [
    "One person saves this 86.8 hours a year by not sitting in traffic. what does everybody save?"
   ]
  },
  {
   "cell_type": "code",
   "execution_count": 20,
   "metadata": {},
   "outputs": [],
   "source": [
    "hours_saved = census['Bicycle - Total'].iloc[0]*time_saved_per_person"
   ]
  },
  {
   "cell_type": "markdown",
   "metadata": {},
   "source": [
    "converting to years"
   ]
  },
  {
   "cell_type": "code",
   "execution_count": 21,
   "metadata": {},
   "outputs": [
    {
     "data": {
      "text/plain": [
       "637.989908675799"
      ]
     },
     "execution_count": 21,
     "metadata": {},
     "output_type": "execute_result"
    }
   ],
   "source": [
    "years_saved = hours_saved/(24*365)\n",
    "\n",
    "years_saved"
   ]
  },
  {
   "cell_type": "markdown",
   "metadata": {},
   "source": [
    "Over a year Dublin's cyclists save 637 years of time they would otherwise spend sitting in traffic. "
   ]
  },
  {
   "cell_type": "markdown",
   "metadata": {},
   "source": [
    "### 4. Fuel savings [Census]"
   ]
  },
  {
   "cell_type": "markdown",
   "metadata": {},
   "source": [
    "TomTom\n",
    "- 10km commute 5 days a week = \n",
    "- 695/628 euro petrol (city vs metro area)\n",
    "- 599/548 euro diesel (city vs metro area)\n",
    "\n"
   ]
  },
  {
   "cell_type": "markdown",
   "metadata": {},
   "source": [
    "Let's be conservative and assume diesel and our earlier 3.5 days in office a week"
   ]
  },
  {
   "cell_type": "code",
   "execution_count": 22,
   "metadata": {},
   "outputs": [],
   "source": [
    "fuel_savings_perperson = 0.5*(599+548)*(3.5/5)"
   ]
  },
  {
   "cell_type": "code",
   "execution_count": 23,
   "metadata": {},
   "outputs": [
    {
     "data": {
      "text/plain": [
       "401.45"
      ]
     },
     "execution_count": 23,
     "metadata": {},
     "output_type": "execute_result"
    }
   ],
   "source": [
    "fuel_savings_perperson"
   ]
  },
  {
   "cell_type": "markdown",
   "metadata": {},
   "source": [
    "The average cyclist saves 401 euro a year by not commuting"
   ]
  },
  {
   "cell_type": "code",
   "execution_count": 24,
   "metadata": {},
   "outputs": [],
   "source": [
    "fuel_savings_dublin = census['Bicycle - Total'].iloc[0]*fuel_savings_perperson"
   ]
  },
  {
   "cell_type": "code",
   "execution_count": 25,
   "metadata": {},
   "outputs": [
    {
     "data": {
      "text/plain": [
       "25848161.15"
      ]
     },
     "execution_count": 25,
     "metadata": {},
     "output_type": "execute_result"
    }
   ],
   "source": [
    "fuel_savings_dublin"
   ]
  },
  {
   "cell_type": "markdown",
   "metadata": {},
   "source": [
    "Dubliners save 25 million euro a year by cycling instead of driving"
   ]
  },
  {
   "cell_type": "markdown",
   "metadata": {},
   "source": [
    "### 5. Premature deaths avoided [Census]"
   ]
  },
  {
   "cell_type": "markdown",
   "metadata": {},
   "source": [
    "The number of premature deaths averted this year by walking or cycling to work. \n",
    "\n",
    "- For cycling, biking to work reduces the risk of premature death by 41%. \n",
    "\n",
    "- Walking 150 mins a week reduces this by 16%. \n",
    "\n",
    "- The risk of premature death between 30-70 years was estimated at 10%."
   ]
  },
  {
   "cell_type": "markdown",
   "metadata": {},
   "source": [
    "Logic: \"If our cyclists were driving instead, how many of them would die prematurely this year?\""
   ]
  },
  {
   "cell_type": "markdown",
   "metadata": {},
   "source": [
    "risk of premature death in any year = 10% / 40 years"
   ]
  },
  {
   "cell_type": "code",
   "execution_count": 26,
   "metadata": {},
   "outputs": [
    {
     "data": {
      "text/plain": [
       "0.00025000000000000006"
      ]
     },
     "execution_count": 26,
     "metadata": {},
     "output_type": "execute_result"
    }
   ],
   "source": [
    "0.1*0.1/40"
   ]
  },
  {
   "cell_type": "code",
   "execution_count": 27,
   "metadata": {},
   "outputs": [],
   "source": [
    "premature_deaths_if_driving = census['Bicycle - Total'].iloc[0]*0.1/40"
   ]
  },
  {
   "cell_type": "code",
   "execution_count": 28,
   "metadata": {},
   "outputs": [
    {
     "data": {
      "text/plain": [
       "160.96750000000003"
      ]
     },
     "execution_count": 28,
     "metadata": {},
     "output_type": "execute_result"
    }
   ],
   "source": [
    "premature_deaths_if_driving"
   ]
  },
  {
   "cell_type": "code",
   "execution_count": 29,
   "metadata": {},
   "outputs": [],
   "source": [
    "premature_deaths_prevented = premature_deaths_if_driving*0.41"
   ]
  },
  {
   "cell_type": "code",
   "execution_count": 30,
   "metadata": {},
   "outputs": [
    {
     "data": {
      "text/plain": [
       "65.99667500000001"
      ]
     },
     "execution_count": 30,
     "metadata": {},
     "output_type": "execute_result"
    }
   ],
   "source": [
    "premature_deaths_prevented"
   ]
  },
  {
   "cell_type": "markdown",
   "metadata": {},
   "source": [
    "66 deaths prevented this year alone through cycling to work"
   ]
  },
  {
   "cell_type": "markdown",
   "metadata": {},
   "source": [
    "#### 6. Cost of congestion"
   ]
  },
  {
   "cell_type": "markdown",
   "metadata": {},
   "source": [
    "2022 study put the cost of congestion as 336m in the greater dublin area (GDA), pop 2,073,459\n",
    "\n",
    "Logic: \n",
    "\n",
    "- work out what fraction of the GDA is Dublin\n",
    "- find the ratio of total car + bus trips to the cost of congestion \n",
    "- based on this ratio, estimate how much extra cycling or walking trips would add to this congestion\n",
    "\n",
    "This way underestimates the number as the relationship between people and traffic is not linear. The document I have around cost of congestion details their methodology but it's not really one we can plug these numbers into."
   ]
  },
  {
   "cell_type": "code",
   "execution_count": 31,
   "metadata": {},
   "outputs": [],
   "source": [
    "gda_fraction = google['POPULATION'].sum()/2073459"
   ]
  },
  {
   "cell_type": "code",
   "execution_count": 32,
   "metadata": {},
   "outputs": [],
   "source": [
    "cost = 336000000*gda_fraction"
   ]
  },
  {
   "cell_type": "markdown",
   "metadata": {},
   "source": [
    "247.63m cost of congestion in our dublin map"
   ]
  },
  {
   "cell_type": "code",
   "execution_count": 33,
   "metadata": {},
   "outputs": [
    {
     "data": {
      "text/plain": [
       "512234697"
      ]
     },
     "execution_count": 33,
     "metadata": {},
     "output_type": "execute_result"
    }
   ],
   "source": [
    "total_trips = google['AUTOMOBILE_trips'].sum()+google['BUS_trips'].sum()\n",
    "\n",
    "total_trips\n",
    "\n"
   ]
  },
  {
   "cell_type": "code",
   "execution_count": 34,
   "metadata": {},
   "outputs": [],
   "source": [
    "cost_per_trip = cost/total_trips"
   ]
  },
  {
   "cell_type": "code",
   "execution_count": 35,
   "metadata": {},
   "outputs": [
    {
     "data": {
      "text/plain": [
       "0.4834317104213985"
      ]
     },
     "execution_count": 35,
     "metadata": {},
     "output_type": "execute_result"
    }
   ],
   "source": [
    "cost_per_trip"
   ]
  },
  {
   "cell_type": "code",
   "execution_count": 36,
   "metadata": {},
   "outputs": [
    {
     "data": {
      "text/plain": [
       "14.750950329793001"
      ]
     },
     "execution_count": 36,
     "metadata": {},
     "output_type": "execute_result"
    }
   ],
   "source": [
    "google['CYCLING_trips'].sum()*cost_per_trip/1000000"
   ]
  },
  {
   "cell_type": "code",
   "execution_count": 37,
   "metadata": {},
   "outputs": [
    {
     "data": {
      "text/plain": [
       "144.0280321276569"
      ]
     },
     "execution_count": 37,
     "metadata": {},
     "output_type": "execute_result"
    }
   ],
   "source": [
    "google['ON FOOT_trips'].sum()*cost_per_trip/1000000"
   ]
  },
  {
   "cell_type": "markdown",
   "metadata": {},
   "source": [
    "So that is 144m saved by walking and 14m by cycling.\n",
    "\n",
    "Surely it should be a lot more!"
   ]
  },
  {
   "cell_type": "markdown",
   "metadata": {},
   "source": []
  }
 ],
 "metadata": {
  "kernelspec": {
   "display_name": "Python 3",
   "language": "python",
   "name": "python3"
  },
  "language_info": {
   "codemirror_mode": {
    "name": "ipython",
    "version": 3
   },
   "file_extension": ".py",
   "mimetype": "text/x-python",
   "name": "python",
   "nbconvert_exporter": "python",
   "pygments_lexer": "ipython3",
   "version": "3.9.13"
  }
 },
 "nbformat": 4,
 "nbformat_minor": 2
}
