{
 "cells": [
  {
   "cell_type": "code",
   "execution_count": 1,
   "metadata": {},
   "outputs": [],
   "source": [
    "import pandas as pd"
   ]
  },
  {
   "cell_type": "code",
   "execution_count": 2,
   "metadata": {},
   "outputs": [],
   "source": [
    "import geopandas as gpd\n",
    "eq = gpd.read_file('data/boundaries.geojson')"
   ]
  },
  {
   "cell_type": "code",
   "execution_count": 3,
   "metadata": {},
   "outputs": [],
   "source": [
    "n = []\n",
    "for ii, row in eq.iterrows():\n",
    "    if ('Dublin' in row['ENG_NAME_VALUE']) or ('Laoghaire' in row['ENG_NAME_VALUE']):\n",
    "        n.append(ii)"
   ]
  },
  {
   "cell_type": "code",
   "execution_count": 4,
   "metadata": {},
   "outputs": [],
   "source": [
    "eq = eq.iloc[n].reset_index(drop=True)"
   ]
  },
  {
   "cell_type": "code",
   "execution_count": 5,
   "metadata": {},
   "outputs": [],
   "source": [
    "eq = eq.sort_values(by='ENG_NAME_VALUE').reset_index(drop=True)\n",
    "\n",
    "eq.to_file('data/boundaries.geojson', driver=\"GeoJSON\")"
   ]
  },
  {
   "cell_type": "code",
   "execution_count": 6,
   "metadata": {},
   "outputs": [],
   "source": [
    "from shapely.geometry import shape\n",
    "\n",
    "tst = eq[0:3][['ENG_NAME_VALUE','geometry']]\n",
    "\n"
   ]
  },
  {
   "cell_type": "code",
   "execution_count": 7,
   "metadata": {},
   "outputs": [],
   "source": [
    "zones = eq.dissolve(by='ENG_NAME_VALUE').reset_index(drop=False)"
   ]
  },
  {
   "cell_type": "code",
   "execution_count": 8,
   "metadata": {},
   "outputs": [],
   "source": [
    "zones['ENG_NAME_VALUE']=zones['ENG_NAME_VALUE'].apply(lambda x: x.split('(')[0])"
   ]
  },
  {
   "cell_type": "code",
   "execution_count": 9,
   "metadata": {},
   "outputs": [],
   "source": [
    "zones = zones[['ENG_NAME_VALUE','geometry']]"
   ]
  },
  {
   "cell_type": "code",
   "execution_count": 10,
   "metadata": {},
   "outputs": [],
   "source": [
    "zones['ENG_NAME_VALUE']=zones['ENG_NAME_VALUE'].apply(lambda x: x.lower().strip().replace(' ','-'))"
   ]
  },
  {
   "cell_type": "code",
   "execution_count": 11,
   "metadata": {},
   "outputs": [],
   "source": [
    "files = dir('.csv')"
   ]
  },
  {
   "cell_type": "code",
   "execution_count": 12,
   "metadata": {},
   "outputs": [],
   "source": [
    "import glob\n",
    "\n",
    "files = glob.glob( '*.csv' )"
   ]
  },
  {
   "cell_type": "code",
   "execution_count": 13,
   "metadata": {},
   "outputs": [],
   "source": [
    "tmp = pd.read_csv('data/dublin-bay-south-transportation.csv')\n",
    "tmp = tmp[tmp['travel_bounds']=='TOTAL']\n",
    "ts = dict()\n",
    "for ii, row in tmp.iterrows():\n",
    "    for column in tmp.columns[2:7]:\n",
    "        ts[row['mode']+'_'+column]=[]\n"
   ]
  },
  {
   "cell_type": "code",
   "execution_count": 14,
   "metadata": {},
   "outputs": [
    {
     "name": "stdout",
     "output_type": "stream",
     "text": [
      "dublin-bay-north\n",
      "dublin-bay-south\n",
      "dublin-central\n",
      "dublin-fingal-east\n",
      "dublin-fingal-west\n",
      "dublin-mid-west\n",
      "dublin-north-west\n",
      "dublin-rathdown\n",
      "dublin-south-central\n",
      "dublin-south-west\n",
      "dublin-west\n",
      "dún-laoghaire\n"
     ]
    }
   ],
   "source": [
    "for ii, row in zones.iterrows():\n",
    "    f = [item for item in files if row['ENG_NAME_VALUE'] in item]\n",
    "    if len(f)==1:\n",
    "        tmp = pd.read_csv('data/'+f[0])\n",
    "    else:\n",
    "        print(row['ENG_NAME_VALUE'])\n",
    "        tmp = pd.read_csv('data/dublin-dún-laoghaire-transportation.csv')\n",
    "    \n",
    "    tmp = tmp[tmp['travel_bounds']=='TOTAL']\n",
    "    for ii, row in tmp.iterrows():\n",
    "        for column in tmp.columns[2:7]:\n",
    "            ts[row['mode']+'_'+column].append(row[column])\n",
    "\n",
    "    if 'TRAM' not in list(tmp['mode']):\n",
    "        for column in tmp.columns[2:7]:\n",
    "                ts['TRAM'+'_'+column].append(0)\n",
    "\n",
    "    if 'RAIL' not in list(tmp['mode']):\n",
    "        for column in tmp.columns[2:7]:\n",
    "                ts['RAIL'+'_'+column].append(0)\n",
    "\n",
    "\n",
    "\n",
    "   "
   ]
  },
  {
   "cell_type": "code",
   "execution_count": 15,
   "metadata": {},
   "outputs": [],
   "source": [
    "dfnew = zones.join(pd.DataFrame(ts))"
   ]
  },
  {
   "cell_type": "code",
   "execution_count": 16,
   "metadata": {},
   "outputs": [],
   "source": [
    "dfnew['TOTAL_trips']=dfnew['AUTOMOBILE_trips']+dfnew['CYCLING_trips']+dfnew['BUS_trips']+dfnew['ON FOOT_trips']+dfnew['RAIL_trips']+dfnew['TRAM_trips']"
   ]
  },
  {
   "cell_type": "code",
   "execution_count": 17,
   "metadata": {},
   "outputs": [],
   "source": [
    "dfnew['walk_pct']=dfnew['ON FOOT_trips']/dfnew['TOTAL_trips']\n",
    "dfnew['cycle_pct']=dfnew['CYCLING_trips']/dfnew['TOTAL_trips']"
   ]
  },
  {
   "cell_type": "code",
   "execution_count": 18,
   "metadata": {},
   "outputs": [],
   "source": [
    "dfnew['active_pct']=dfnew['walk_pct']+dfnew['cycle_pct']"
   ]
  },
  {
   "cell_type": "code",
   "execution_count": 19,
   "metadata": {},
   "outputs": [],
   "source": [
    "dfother = gpd.read_file('/Users/rudi/Desktop/active-travel/general_data/census_data.geojson')"
   ]
  },
  {
   "cell_type": "code",
   "execution_count": 20,
   "metadata": {},
   "outputs": [],
   "source": [
    "dfnew=dfnew.rename({'cycle_pct':'Bicycle - Total_pct','walk_pct':'On foot - Total_pct','active_pct':'Active travel - Total_pct'},axis=1)"
   ]
  },
  {
   "cell_type": "code",
   "execution_count": 21,
   "metadata": {},
   "outputs": [],
   "source": [
    "test = pd.concat([dfother,dfnew])"
   ]
  },
  {
   "cell_type": "code",
   "execution_count": 22,
   "metadata": {},
   "outputs": [],
   "source": [
    "test['ID']=range(len(test))"
   ]
  },
  {
   "cell_type": "code",
   "execution_count": 23,
   "metadata": {},
   "outputs": [],
   "source": [
    "b = []\n",
    "for jj, row2 in dfother.iterrows():\n",
    "    a = ''\n",
    "    for ii,row in dfnew.iterrows():\n",
    "        if row2['geometry'].within(row['geometry']):\n",
    "            a = row['ENG_NAME_VALUE']\n",
    "            break\n",
    "    b.append(a)\n",
    "\n"
   ]
  },
  {
   "cell_type": "code",
   "execution_count": 24,
   "metadata": {},
   "outputs": [],
   "source": [
    "bbox = []\n",
    "for ii, row in dfnew.iterrows():\n",
    "    ss = str(dfnew.envelope.iloc[ii])\n",
    "    cs = []\n",
    "    for item in ss.split(','):\n",
    "        item2 = item.split(' ')\n",
    "        for item in item2:\n",
    "            item = item.replace('(','')\n",
    "            item = item.replace(')','')\n",
    "            if len(item)>0 and item!='POLYGON':\n",
    "                cs.append(item)\n",
    "\n",
    "    cs = list(dict.fromkeys(cs))\n",
    "    cs.sort()\n",
    "    item = cs[1]+', '+ cs[2]+', '+ cs[0]+', '+ cs[3]\n",
    "    bbox.append(item)\n",
    "\n",
    "dfnew['bbox']=bbox"
   ]
  },
  {
   "cell_type": "code",
   "execution_count": 34,
   "metadata": {},
   "outputs": [],
   "source": []
  },
  {
   "cell_type": "code",
   "execution_count": 25,
   "metadata": {},
   "outputs": [],
   "source": [
    "dfnew=dfnew.rename({'Bicycle - Total_pct':'cycle_pct','On foot - Total_pct':'walk_pct','Active travel - Total_pct':'active_pct'},axis=1)"
   ]
  },
  {
   "cell_type": "code",
   "execution_count": 36,
   "metadata": {},
   "outputs": [],
   "source": []
  },
  {
   "cell_type": "code",
   "execution_count": 26,
   "metadata": {},
   "outputs": [
    {
     "name": "stderr",
     "output_type": "stream",
     "text": [
      "/var/folders/c6/jsjxnj0j6vqbnpqy37npy5dw0000gn/T/ipykernel_42095/1641076267.py:1: FutureWarning: Dropping of nuisance columns in DataFrame reductions (with 'numeric_only=None') is deprecated; in a future version this will raise TypeError.  Select only valid columns before calling the reduction.\n",
      "  a = dfnew.sum()\n"
     ]
    }
   ],
   "source": [
    "a = dfnew.sum()"
   ]
  },
  {
   "cell_type": "code",
   "execution_count": 27,
   "metadata": {},
   "outputs": [],
   "source": [
    "sums = pd.DataFrame(a).reset_index(drop=False)"
   ]
  },
  {
   "cell_type": "code",
   "execution_count": 28,
   "metadata": {},
   "outputs": [],
   "source": [
    "pd.DataFrame(a).reset_index(drop=False).to_excel('data/summs.xlsx')"
   ]
  },
  {
   "cell_type": "code",
   "execution_count": 29,
   "metadata": {},
   "outputs": [],
   "source": [
    "dfa = pd.DataFrame(dfnew['ENG_NAME_VALUE'])"
   ]
  },
  {
   "cell_type": "code",
   "execution_count": 30,
   "metadata": {},
   "outputs": [],
   "source": [
    "dfa['nam']=dfa['ENG_NAME_VALUE'].apply(lambda x: x.split('-'))"
   ]
  },
  {
   "cell_type": "code",
   "execution_count": 31,
   "metadata": {},
   "outputs": [],
   "source": [
    "n = []\n",
    "for ii, row in dfa.iterrows():\n",
    "    s = ''\n",
    "    for item in row['nam']:\n",
    "        s = s+item.capitalize() + ' '\n",
    "    s = s.strip()\n",
    "    n.append(s)"
   ]
  },
  {
   "cell_type": "code",
   "execution_count": 32,
   "metadata": {},
   "outputs": [],
   "source": [
    "dfa['n']=n"
   ]
  },
  {
   "cell_type": "code",
   "execution_count": 33,
   "metadata": {},
   "outputs": [],
   "source": [
    "sums = sums.T"
   ]
  },
  {
   "cell_type": "code",
   "execution_count": 34,
   "metadata": {},
   "outputs": [],
   "source": [
    "sums.rename(columns=sums.iloc[0],inplace=True)\n",
    "sums.drop(sums.index[0],inplace=True)\n"
   ]
  },
  {
   "cell_type": "code",
   "execution_count": 35,
   "metadata": {},
   "outputs": [],
   "source": [
    "sums.drop(['bbox','ENG_NAME_VALUE'],axis=1,inplace=True)"
   ]
  },
  {
   "cell_type": "code",
   "execution_count": 36,
   "metadata": {},
   "outputs": [],
   "source": [
    "sums['walk_pct'].iloc[0]=sums['ON FOOT_trips'].iloc[0]/sums['TOTAL_trips'].iloc[0]\n",
    "sums['cycle_pct'].iloc[0]=sums['CYCLING_trips'].iloc[0]/sums['TOTAL_trips'].iloc[0]\n",
    "sums['active_pct'].iloc[0]=(sums['ON FOOT_trips'].iloc[0]+sums['CYCLING_trips'].iloc[0])/sums['TOTAL_trips'].iloc[0]"
   ]
  },
  {
   "cell_type": "code",
   "execution_count": 37,
   "metadata": {},
   "outputs": [
    {
     "data": {
      "text/html": [
       "<div>\n",
       "<style scoped>\n",
       "    .dataframe tbody tr th:only-of-type {\n",
       "        vertical-align: middle;\n",
       "    }\n",
       "\n",
       "    .dataframe tbody tr th {\n",
       "        vertical-align: top;\n",
       "    }\n",
       "\n",
       "    .dataframe thead th {\n",
       "        text-align: right;\n",
       "    }\n",
       "</style>\n",
       "<table border=\"1\" class=\"dataframe\">\n",
       "  <thead>\n",
       "    <tr style=\"text-align: right;\">\n",
       "      <th></th>\n",
       "      <th>AUTOMOBILE_trips</th>\n",
       "      <th>AUTOMOBILE_full_distance_km</th>\n",
       "      <th>AUTOMOBILE_gpc_distance_km</th>\n",
       "      <th>AUTOMOBILE_full_co2e_tons</th>\n",
       "      <th>AUTOMOBILE_gpc_co2e_tons</th>\n",
       "      <th>BUS_trips</th>\n",
       "      <th>BUS_full_distance_km</th>\n",
       "      <th>BUS_gpc_distance_km</th>\n",
       "      <th>BUS_full_co2e_tons</th>\n",
       "      <th>BUS_gpc_co2e_tons</th>\n",
       "      <th>...</th>\n",
       "      <th>RAIL_gpc_co2e_tons</th>\n",
       "      <th>TRAM_trips</th>\n",
       "      <th>TRAM_full_distance_km</th>\n",
       "      <th>TRAM_gpc_distance_km</th>\n",
       "      <th>TRAM_full_co2e_tons</th>\n",
       "      <th>TRAM_gpc_co2e_tons</th>\n",
       "      <th>TOTAL_trips</th>\n",
       "      <th>walk_pct</th>\n",
       "      <th>cycle_pct</th>\n",
       "      <th>active_pct</th>\n",
       "    </tr>\n",
       "  </thead>\n",
       "  <tbody>\n",
       "    <tr>\n",
       "      <th>0</th>\n",
       "      <td>398218992</td>\n",
       "      <td>5055245184</td>\n",
       "      <td>2812140438.0</td>\n",
       "      <td>918791.3016</td>\n",
       "      <td>511106.7972</td>\n",
       "      <td>33159888</td>\n",
       "      <td>289523520</td>\n",
       "      <td>162596292.0</td>\n",
       "      <td>186764.976</td>\n",
       "      <td>104887.1352</td>\n",
       "      <td>...</td>\n",
       "      <td>0.0</td>\n",
       "      <td>8472828</td>\n",
       "      <td>100331292</td>\n",
       "      <td>50165646.0</td>\n",
       "      <td>0.0</td>\n",
       "      <td>0.0</td>\n",
       "      <td>708792372</td>\n",
       "      <td>0.298191</td>\n",
       "      <td>0.031147</td>\n",
       "      <td>0.329338</td>\n",
       "    </tr>\n",
       "  </tbody>\n",
       "</table>\n",
       "<p>1 rows × 34 columns</p>\n",
       "</div>"
      ],
      "text/plain": [
       "  AUTOMOBILE_trips AUTOMOBILE_full_distance_km AUTOMOBILE_gpc_distance_km  \\\n",
       "0        398218992                  5055245184               2812140438.0   \n",
       "\n",
       "  AUTOMOBILE_full_co2e_tons AUTOMOBILE_gpc_co2e_tons BUS_trips  \\\n",
       "0               918791.3016              511106.7972  33159888   \n",
       "\n",
       "  BUS_full_distance_km BUS_gpc_distance_km BUS_full_co2e_tons  \\\n",
       "0            289523520         162596292.0         186764.976   \n",
       "\n",
       "  BUS_gpc_co2e_tons  ... RAIL_gpc_co2e_tons TRAM_trips TRAM_full_distance_km  \\\n",
       "0       104887.1352  ...                0.0    8472828             100331292   \n",
       "\n",
       "  TRAM_gpc_distance_km TRAM_full_co2e_tons TRAM_gpc_co2e_tons TOTAL_trips  \\\n",
       "0           50165646.0                 0.0                0.0   708792372   \n",
       "\n",
       "   walk_pct cycle_pct active_pct  \n",
       "0  0.298191  0.031147   0.329338  \n",
       "\n",
       "[1 rows x 34 columns]"
      ]
     },
     "execution_count": 37,
     "metadata": {},
     "output_type": "execute_result"
    }
   ],
   "source": [
    "sums"
   ]
  },
  {
   "cell_type": "code",
   "execution_count": 38,
   "metadata": {},
   "outputs": [],
   "source": [
    "dfnew.to_file('data/divisions.geojson', driver=\"GeoJSON\")"
   ]
  },
  {
   "cell_type": "code",
   "execution_count": 39,
   "metadata": {},
   "outputs": [],
   "source": [
    "dfnew['PUBLIC_trips']=dfnew['BUS_trips']+dfnew['RAIL_trips']+dfnew['TRAM_trips']\n",
    "dfnew['PUBLIC_full_distance_km']=dfnew['BUS_full_distance_km']+dfnew['RAIL_full_distance_km']+dfnew['TRAM_full_distance_km']\n",
    "dfnew['PUBLIC_gpc_distance_km']=dfnew['BUS_gpc_distance_km']+dfnew['RAIL_gpc_distance_km']+dfnew['TRAM_gpc_distance_km']\n",
    "dfnew['PUBLIC_full_co2e_tons']=dfnew['BUS_full_co2e_tons']+dfnew['RAIL_full_co2e_tons']+dfnew['TRAM_full_co2e_tons']\n",
    "dfnew['PUBLIC_gpc_co2e_tons']=dfnew['BUS_gpc_co2e_tons']+dfnew['RAIL_gpc_co2e_tons']+dfnew['TRAM_gpc_co2e_tons']\n"
   ]
  },
  {
   "cell_type": "code",
   "execution_count": 40,
   "metadata": {},
   "outputs": [],
   "source": [
    "droplist = [item for item in dfnew.columns if 'TRAM' in item or 'RAIL' in item or 'BUS' in item]"
   ]
  },
  {
   "cell_type": "code",
   "execution_count": 41,
   "metadata": {},
   "outputs": [],
   "source": [
    "dfnew.drop(droplist,axis=1,inplace=True)"
   ]
  },
  {
   "cell_type": "code",
   "execution_count": 42,
   "metadata": {},
   "outputs": [],
   "source": [
    "trips = [item for item in dfnew.columns if 'trip' in item]"
   ]
  },
  {
   "cell_type": "code",
   "execution_count": 43,
   "metadata": {},
   "outputs": [],
   "source": [
    "dfnew.to_file('data/districts.geojson', driver=\"GeoJSON\")  \n"
   ]
  }
 ],
 "metadata": {
  "kernelspec": {
   "display_name": "Python 3",
   "language": "python",
   "name": "python3"
  },
  "language_info": {
   "codemirror_mode": {
    "name": "ipython",
    "version": 3
   },
   "file_extension": ".py",
   "mimetype": "text/x-python",
   "name": "python",
   "nbconvert_exporter": "python",
   "pygments_lexer": "ipython3",
   "version": "3.9.13"
  }
 },
 "nbformat": 4,
 "nbformat_minor": 2
}
